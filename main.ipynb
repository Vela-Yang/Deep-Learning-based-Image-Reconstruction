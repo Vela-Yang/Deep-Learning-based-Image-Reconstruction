{
  "nbformat": 4,
  "nbformat_minor": 2,
  "metadata": {
    "orig_nbformat": 4,
    "colab": {
      "name": "main.ipynb",
      "provenance": []
    },
    "accelerator": "GPU",
    "language_info": {
      "name": "python"
    },
    "kernelspec": {
      "name": "python3",
      "display_name": "Python 3"
    },
    "widgets": {
      "application/vnd.jupyter.widget-state+json": {
        "44def242dc794884bf85845895a140c5": {
          "model_module": "@jupyter-widgets/controls",
          "model_name": "HBoxModel",
          "state": {
            "_view_name": "HBoxView",
            "_dom_classes": [],
            "_model_name": "HBoxModel",
            "_view_module": "@jupyter-widgets/controls",
            "_model_module_version": "1.5.0",
            "_view_count": null,
            "_view_module_version": "1.5.0",
            "box_style": "",
            "layout": "IPY_MODEL_54c127b019984ea197438aa13c0b1460",
            "_model_module": "@jupyter-widgets/controls",
            "children": [
              "IPY_MODEL_ad750470ac5f4b7b87f1f18696643467",
              "IPY_MODEL_d281088f1d834853890a85d9d18824b5"
            ]
          }
        },
        "54c127b019984ea197438aa13c0b1460": {
          "model_module": "@jupyter-widgets/base",
          "model_name": "LayoutModel",
          "state": {
            "_view_name": "LayoutView",
            "grid_template_rows": null,
            "right": null,
            "justify_content": null,
            "_view_module": "@jupyter-widgets/base",
            "overflow": null,
            "_model_module_version": "1.2.0",
            "_view_count": null,
            "flex_flow": null,
            "width": null,
            "min_width": null,
            "border": null,
            "align_items": null,
            "bottom": null,
            "_model_module": "@jupyter-widgets/base",
            "top": null,
            "grid_column": null,
            "overflow_y": null,
            "overflow_x": null,
            "grid_auto_flow": null,
            "grid_area": null,
            "grid_template_columns": null,
            "flex": null,
            "_model_name": "LayoutModel",
            "justify_items": null,
            "grid_row": null,
            "max_height": null,
            "align_content": null,
            "visibility": null,
            "align_self": null,
            "height": null,
            "min_height": null,
            "padding": null,
            "grid_auto_rows": null,
            "grid_gap": null,
            "max_width": null,
            "order": null,
            "_view_module_version": "1.2.0",
            "grid_template_areas": null,
            "object_position": null,
            "object_fit": null,
            "grid_auto_columns": null,
            "margin": null,
            "display": null,
            "left": null
          }
        },
        "ad750470ac5f4b7b87f1f18696643467": {
          "model_module": "@jupyter-widgets/controls",
          "model_name": "FloatProgressModel",
          "state": {
            "_view_name": "ProgressView",
            "style": "IPY_MODEL_1a08f8aa19ae40f1bc92819020224dff",
            "_dom_classes": [],
            "description": "100%",
            "_model_name": "FloatProgressModel",
            "bar_style": "success",
            "max": 10,
            "_view_module": "@jupyter-widgets/controls",
            "_model_module_version": "1.5.0",
            "value": 10,
            "_view_count": null,
            "_view_module_version": "1.5.0",
            "orientation": "horizontal",
            "min": 0,
            "description_tooltip": null,
            "_model_module": "@jupyter-widgets/controls",
            "layout": "IPY_MODEL_0a36d8353dc946be9a16234d22ca49f6"
          }
        },
        "d281088f1d834853890a85d9d18824b5": {
          "model_module": "@jupyter-widgets/controls",
          "model_name": "HTMLModel",
          "state": {
            "_view_name": "HTMLView",
            "style": "IPY_MODEL_f67af11525bf4e4fa02b3b8677b5dcdc",
            "_dom_classes": [],
            "description": "",
            "_model_name": "HTMLModel",
            "placeholder": "​",
            "_view_module": "@jupyter-widgets/controls",
            "_model_module_version": "1.5.0",
            "value": " 10.000000000000924/10 [25:54&lt;00:00, 155.49s/it]",
            "_view_count": null,
            "_view_module_version": "1.5.0",
            "description_tooltip": null,
            "_model_module": "@jupyter-widgets/controls",
            "layout": "IPY_MODEL_d24f01dc7a36487783ddb36270d03878"
          }
        },
        "1a08f8aa19ae40f1bc92819020224dff": {
          "model_module": "@jupyter-widgets/controls",
          "model_name": "ProgressStyleModel",
          "state": {
            "_view_name": "StyleView",
            "_model_name": "ProgressStyleModel",
            "description_width": "initial",
            "_view_module": "@jupyter-widgets/base",
            "_model_module_version": "1.5.0",
            "_view_count": null,
            "_view_module_version": "1.2.0",
            "bar_color": null,
            "_model_module": "@jupyter-widgets/controls"
          }
        },
        "0a36d8353dc946be9a16234d22ca49f6": {
          "model_module": "@jupyter-widgets/base",
          "model_name": "LayoutModel",
          "state": {
            "_view_name": "LayoutView",
            "grid_template_rows": null,
            "right": null,
            "justify_content": null,
            "_view_module": "@jupyter-widgets/base",
            "overflow": null,
            "_model_module_version": "1.2.0",
            "_view_count": null,
            "flex_flow": null,
            "width": null,
            "min_width": null,
            "border": null,
            "align_items": null,
            "bottom": null,
            "_model_module": "@jupyter-widgets/base",
            "top": null,
            "grid_column": null,
            "overflow_y": null,
            "overflow_x": null,
            "grid_auto_flow": null,
            "grid_area": null,
            "grid_template_columns": null,
            "flex": null,
            "_model_name": "LayoutModel",
            "justify_items": null,
            "grid_row": null,
            "max_height": null,
            "align_content": null,
            "visibility": null,
            "align_self": null,
            "height": null,
            "min_height": null,
            "padding": null,
            "grid_auto_rows": null,
            "grid_gap": null,
            "max_width": null,
            "order": null,
            "_view_module_version": "1.2.0",
            "grid_template_areas": null,
            "object_position": null,
            "object_fit": null,
            "grid_auto_columns": null,
            "margin": null,
            "display": null,
            "left": null
          }
        },
        "f67af11525bf4e4fa02b3b8677b5dcdc": {
          "model_module": "@jupyter-widgets/controls",
          "model_name": "DescriptionStyleModel",
          "state": {
            "_view_name": "StyleView",
            "_model_name": "DescriptionStyleModel",
            "description_width": "",
            "_view_module": "@jupyter-widgets/base",
            "_model_module_version": "1.5.0",
            "_view_count": null,
            "_view_module_version": "1.2.0",
            "_model_module": "@jupyter-widgets/controls"
          }
        },
        "d24f01dc7a36487783ddb36270d03878": {
          "model_module": "@jupyter-widgets/base",
          "model_name": "LayoutModel",
          "state": {
            "_view_name": "LayoutView",
            "grid_template_rows": null,
            "right": null,
            "justify_content": null,
            "_view_module": "@jupyter-widgets/base",
            "overflow": null,
            "_model_module_version": "1.2.0",
            "_view_count": null,
            "flex_flow": null,
            "width": null,
            "min_width": null,
            "border": null,
            "align_items": null,
            "bottom": null,
            "_model_module": "@jupyter-widgets/base",
            "top": null,
            "grid_column": null,
            "overflow_y": null,
            "overflow_x": null,
            "grid_auto_flow": null,
            "grid_area": null,
            "grid_template_columns": null,
            "flex": null,
            "_model_name": "LayoutModel",
            "justify_items": null,
            "grid_row": null,
            "max_height": null,
            "align_content": null,
            "visibility": null,
            "align_self": null,
            "height": null,
            "min_height": null,
            "padding": null,
            "grid_auto_rows": null,
            "grid_gap": null,
            "max_width": null,
            "order": null,
            "_view_module_version": "1.2.0",
            "grid_template_areas": null,
            "object_position": null,
            "object_fit": null,
            "grid_auto_columns": null,
            "margin": null,
            "display": null,
            "left": null
          }
        }
      }
    }
  },
  "cells": [
    {
      "cell_type": "code",
      "execution_count": 4,
      "source": [
        "gpu_info = !nvidia-smi\r\n",
        "gpu_info = '\\n'.join(gpu_info)\r\n",
        "if gpu_info.find('failed') >= 0:\r\n",
        "  print('Select the Runtime > \"Change runtime type\" menu to enable a GPU accelerator, ')\r\n",
        "  print('and then re-execute this cell.')\r\n",
        "else:\r\n",
        "  print(gpu_info)"
      ],
      "outputs": [
        {
          "output_type": "stream",
          "name": "stdout",
          "text": [
            "Fri Jul 30 15:33:11 2021       \n",
            "+-----------------------------------------------------------------------------+\n",
            "| NVIDIA-SMI 470.42.01    Driver Version: 460.32.03    CUDA Version: 11.2     |\n",
            "|-------------------------------+----------------------+----------------------+\n",
            "| GPU  Name        Persistence-M| Bus-Id        Disp.A | Volatile Uncorr. ECC |\n",
            "| Fan  Temp  Perf  Pwr:Usage/Cap|         Memory-Usage | GPU-Util  Compute M. |\n",
            "|                               |                      |               MIG M. |\n",
            "|===============================+======================+======================|\n",
            "|   0  Tesla T4            Off  | 00000000:00:04.0 Off |                    0 |\n",
            "| N/A   49C    P0    28W /  70W |   9312MiB / 15109MiB |      0%      Default |\n",
            "|                               |                      |                  N/A |\n",
            "+-------------------------------+----------------------+----------------------+\n",
            "                                                                               \n",
            "+-----------------------------------------------------------------------------+\n",
            "| Processes:                                                                  |\n",
            "|  GPU   GI   CI        PID   Type   Process name                  GPU Memory |\n",
            "|        ID   ID                                                   Usage      |\n",
            "|=============================================================================|\n",
            "|  No running processes found                                                 |\n",
            "+-----------------------------------------------------------------------------+\n"
          ]
        }
      ],
      "metadata": {
        "colab": {
          "base_uri": "https://localhost:8080/"
        },
        "id": "S1VJQKVHWhSs",
        "outputId": "b7e930dd-76c5-447a-ff1b-bc943f0c7bbb"
      }
    },
    {
      "cell_type": "code",
      "execution_count": 5,
      "source": [
        "!git clone https://github.com/Vela-Yang/vela_SR.git SR"
      ],
      "outputs": [
        {
          "output_type": "stream",
          "name": "stdout",
          "text": [
            "fatal: destination path 'SR' already exists and is not an empty directory.\n"
          ]
        }
      ],
      "metadata": {
        "id": "pvHO5yB-Ucn1",
        "colab": {
          "base_uri": "https://localhost:8080/"
        },
        "outputId": "5de320ec-426d-4237-e8da-475343cb8ce0"
      }
    },
    {
      "cell_type": "code",
      "execution_count": 3,
      "source": [
        "from google.colab import drive\r\n",
        "drive.mount('/content/drive')"
      ],
      "outputs": [
        {
          "output_type": "stream",
          "name": "stdout",
          "text": [
            "Drive already mounted at /content/drive; to attempt to forcibly remount, call drive.mount(\"/content/drive\", force_remount=True).\n"
          ]
        }
      ],
      "metadata": {
        "id": "c76lqSNbXGIh",
        "colab": {
          "base_uri": "https://localhost:8080/"
        },
        "outputId": "6636ad30-f613-447a-bb82-fa525edfb8cf"
      }
    },
    {
      "cell_type": "code",
      "execution_count": 1,
      "source": [
        "import torch\r\n",
        "import torchvision\r\n",
        "from SR.models import AVS3Filter\r\n",
        "from SR.dataset import VelaDataset\r\n",
        "import matplotlib.pyplot as plt\r\n",
        "import numpy as np\r\n",
        "import IPython.display as ipd\r\n",
        "from tqdm.notebook import tqdm\r\n",
        "\r\n",
        "\r\n",
        "# 是否有GPU加速\r\n",
        "device = torch.device(\"cuda\" if torch.cuda.is_available() else \"cpu\")\r\n",
        "if device == \"cuda\":\r\n",
        "    num_workers = 16\r\n",
        "    pin_memory = True\r\n",
        "else:\r\n",
        "    num_workers = 0\r\n",
        "    pin_memory = False\r\n",
        "print(device)"
      ],
      "outputs": [
        {
          "output_type": "stream",
          "name": "stdout",
          "text": [
            "cuda\n"
          ]
        }
      ],
      "metadata": {
        "id": "SyXDgVnZWhS0",
        "colab": {
          "base_uri": "https://localhost:8080/"
        },
        "outputId": "f198316a-9977-4724-ea46-388e1256c222"
      }
    },
    {
      "cell_type": "code",
      "execution_count": 2,
      "source": [
        "# 加载网络模型\r\n",
        "model = AVS3Filter().to(device)\r\n",
        "\r\n",
        "\r\n",
        "# 损失函数\r\n",
        "loss_fun = torch.nn.MSELoss().to(device)\r\n",
        "losses = []\r\n",
        "losses_test = []\r\n",
        "\r\n",
        "# 数据集加载\r\n",
        "#train_set = VelaDataset(root=\"./drive/MyDrive/iaprtc12/\", number_of_files=19140, size_of_crop=48, subset=\"training\")\r\n",
        "#test_set = VelaDataset(root=\"./drive/MyDrive/iaprtc12/\", number_of_files=19140, size_of_crop=48, subset=\"testing\")"
      ],
      "outputs": [],
      "metadata": {
        "id": "370KsEKeWhS1"
      }
    },
    {
      "cell_type": "code",
      "execution_count": 6,
      "source": [
        "# 优化器\r\n",
        "optimizer = torch.optim.Adam(model.parameters())\r\n",
        "# 批大小\r\n",
        "batch_size = 64\r\n",
        "\r\n",
        "train_loader = torch.utils.data.DataLoader(\r\n",
        "    train_set,\r\n",
        "    batch_size=batch_size,\r\n",
        "    shuffle=True,\r\n",
        "    num_workers=num_workers,\r\n",
        "    pin_memory=pin_memory\r\n",
        ")\r\n",
        "test_loader = torch.utils.data.DataLoader(\r\n",
        "    train_set,\r\n",
        "    batch_size=batch_size,\r\n",
        "    shuffle=False,\r\n",
        "    drop_last=False,\r\n",
        "    num_workers=num_workers,\r\n",
        "    pin_memory=pin_memory\r\n",
        ")\r\n"
      ],
      "outputs": [
        {
          "output_type": "stream",
          "name": "stderr",
          "text": [
            "/usr/local/lib/python3.7/dist-packages/torch/utils/data/dataloader.py:481: UserWarning: This DataLoader will create 16 worker processes in total. Our suggested max number of worker in current system is 2, which is smaller than what this DataLoader is going to create. Please be aware that excessive worker creation might get DataLoader running slow or even freeze, lower the worker number to avoid potential slowness/freeze if necessary.\n",
            "  cpuset_checked))\n"
          ]
        }
      ],
      "metadata": {
        "id": "u-K6u3w7WhS1",
        "colab": {
          "base_uri": "https://localhost:8080/"
        },
        "outputId": "df046252-42d3-4a54-b9ae-d514507dcbe5"
      }
    },
    {
      "cell_type": "code",
      "execution_count": 7,
      "source": [
        "# 训练函数\r\n",
        "def train(model, epoch, log_interval):\r\n",
        "    model.train()\r\n",
        "    for batch_idx, (y, y_lr) in enumerate(train_loader):\r\n",
        "        y, y_lr = y.to(device, torch.float), y_lr.to(device, torch.float)\r\n",
        "        output = model(y_lr/ 255)\r\n",
        "        loss = loss_fun(output, y/ 255)\r\n",
        "        optimizer.zero_grad()\r\n",
        "        loss.backward()\r\n",
        "        optimizer.step()\r\n",
        "        # 展示训练状态\r\n",
        "        if batch_idx % log_interval == 0:\r\n",
        "            print(\r\n",
        "                f\"迭代次数: {epoch} [{batch_idx * len(y_lr)}/{len(train_loader.dataset)} ({100. * batch_idx / len(train_loader):.0f}%)]\\t训练损失: {loss.item():.6f}\")\r\n",
        "        # 更新状态栏\r\n",
        "        pbar.update(pbar_update)\r\n",
        "        # 记录训练损失\r\n",
        "        losses.append(loss.item())\r\n",
        "\r\n",
        "\r\n",
        "# 测试\r\n",
        "def test(model, epoch):\r\n",
        "    model.eval()\r\n",
        "    for y, y_lr in test_loader:\r\n",
        "        y_lr, y = y_lr.to(device, torch.float), y.to(device, torch.float)\r\n",
        "        output = model(y_lr / 255)\r\n",
        "        loss = loss_fun(output, y / 255)\r\n",
        "        losses_test.append(loss.item())\r\n",
        "        # 更新状态栏\r\n",
        "        pbar.update(pbar_update)\r\n",
        "    print(f\"\\n迭代次数 {epoch}\\t训练损失: {loss.item():.6f}\")\r\n"
      ],
      "outputs": [],
      "metadata": {
        "id": "u0EJYK80WhS2"
      }
    },
    {
      "cell_type": "code",
      "execution_count": 12,
      "source": [
        "\r\n",
        "n_epoch = 10\r\n",
        "log_interval = 20\r\n",
        "pbar_update = 1 / (len(train_loader) + len(test_loader))\r\n",
        "\r\n",
        "with tqdm(total=n_epoch) as pbar:   \r\n",
        "    for epoch in range(1, n_epoch + 1):\r\n",
        "        train(model, epoch, log_interval)\r\n",
        "        test(model, epoch)\r\n",
        "\r\n",
        "# 展示训练损失与准确率\r\n",
        "plt.subplot(2, 1, 1)\r\n",
        "plt.plot(losses);\r\n",
        "plt.title(\"训练损失\");\r\n",
        "plt.subplot(2, 1, 2)\r\n",
        "plt.plot(losses_test);\r\n",
        "plt.title(\"测试损失\");\r\n",
        "\r\n"
      ],
      "outputs": [
        {
          "output_type": "display_data",
          "data": {
            "text/plain": [
              "HBox(children=(FloatProgress(value=0.0, max=10.0), HTML(value='')))"
            ],
            "application/vnd.jupyter.widget-view+json": {
              "model_id": "44def242dc794884bf85845895a140c5",
              "version_minor": 0,
              "version_major": 2
            }
          },
          "metadata": {
            "tags": []
          }
        },
        {
          "output_type": "stream",
          "name": "stderr",
          "text": [
            "/usr/local/lib/python3.7/dist-packages/torch/utils/data/dataloader.py:481: UserWarning: This DataLoader will create 16 worker processes in total. Our suggested max number of worker in current system is 2, which is smaller than what this DataLoader is going to create. Please be aware that excessive worker creation might get DataLoader running slow or even freeze, lower the worker number to avoid potential slowness/freeze if necessary.\n",
            "  cpuset_checked))\n"
          ]
        },
        {
          "output_type": "stream",
          "name": "stdout",
          "text": [
            "迭代次数: 1 [0/11480 (0%)]\t训练损失: 0.418291\n",
            "迭代次数: 1 [1280/11480 (11%)]\t训练损失: 0.403918\n",
            "迭代次数: 1 [2560/11480 (22%)]\t训练损失: 0.380008\n",
            "迭代次数: 1 [3840/11480 (33%)]\t训练损失: 0.360382\n",
            "迭代次数: 1 [5120/11480 (44%)]\t训练损失: 0.343983\n",
            "迭代次数: 1 [6400/11480 (56%)]\t训练损失: 0.323982\n",
            "迭代次数: 1 [7680/11480 (67%)]\t训练损失: 0.308859\n",
            "迭代次数: 1 [8960/11480 (78%)]\t训练损失: 0.291196\n",
            "迭代次数: 1 [10240/11480 (89%)]\t训练损失: 0.277947\n",
            "\n",
            "迭代次数 1\t训练损失: 0.328445\n",
            "迭代次数: 2 [0/11480 (0%)]\t训练损失: 0.257963\n",
            "迭代次数: 2 [1280/11480 (11%)]\t训练损失: 0.246358\n",
            "迭代次数: 2 [2560/11480 (22%)]\t训练损失: 0.232783\n",
            "迭代次数: 2 [3840/11480 (33%)]\t训练损失: 0.221080\n",
            "迭代次数: 2 [5120/11480 (44%)]\t训练损失: 0.208898\n",
            "迭代次数: 2 [6400/11480 (56%)]\t训练损失: 0.196089\n",
            "迭代次数: 2 [7680/11480 (67%)]\t训练损失: 0.183348\n",
            "迭代次数: 2 [8960/11480 (78%)]\t训练损失: 0.172088\n",
            "迭代次数: 2 [10240/11480 (89%)]\t训练损失: 0.164048\n",
            "\n",
            "迭代次数 2\t训练损失: 0.170397\n",
            "迭代次数: 3 [0/11480 (0%)]\t训练损失: 0.153073\n",
            "迭代次数: 3 [1280/11480 (11%)]\t训练损失: 0.145192\n",
            "迭代次数: 3 [2560/11480 (22%)]\t训练损失: 0.134854\n",
            "迭代次数: 3 [3840/11480 (33%)]\t训练损失: 0.128587\n",
            "迭代次数: 3 [5120/11480 (44%)]\t训练损失: 0.118488\n",
            "迭代次数: 3 [6400/11480 (56%)]\t训练损失: 0.111440\n",
            "迭代次数: 3 [7680/11480 (67%)]\t训练损失: 0.104135\n",
            "迭代次数: 3 [8960/11480 (78%)]\t训练损失: 0.097466\n",
            "迭代次数: 3 [10240/11480 (89%)]\t训练损失: 0.091727\n",
            "\n",
            "迭代次数 3\t训练损失: 0.091917\n",
            "迭代次数: 4 [0/11480 (0%)]\t训练损失: 0.085674\n",
            "迭代次数: 4 [1280/11480 (11%)]\t训练损失: 0.079690\n",
            "迭代次数: 4 [2560/11480 (22%)]\t训练损失: 0.075063\n",
            "迭代次数: 4 [3840/11480 (33%)]\t训练损失: 0.069675\n",
            "迭代次数: 4 [5120/11480 (44%)]\t训练损失: 0.063263\n",
            "迭代次数: 4 [6400/11480 (56%)]\t训练损失: 0.059829\n",
            "迭代次数: 4 [7680/11480 (67%)]\t训练损失: 0.055192\n",
            "迭代次数: 4 [8960/11480 (78%)]\t训练损失: 0.051756\n",
            "迭代次数: 4 [10240/11480 (89%)]\t训练损失: 0.048184\n",
            "\n",
            "迭代次数 4\t训练损失: 0.044318\n",
            "迭代次数: 5 [0/11480 (0%)]\t训练损失: 0.044222\n",
            "迭代次数: 5 [1280/11480 (11%)]\t训练损失: 0.041356\n",
            "迭代次数: 5 [2560/11480 (22%)]\t训练损失: 0.038341\n",
            "迭代次数: 5 [3840/11480 (33%)]\t训练损失: 0.035791\n",
            "迭代次数: 5 [5120/11480 (44%)]\t训练损失: 0.033148\n",
            "迭代次数: 5 [6400/11480 (56%)]\t训练损失: 0.030543\n",
            "迭代次数: 5 [7680/11480 (67%)]\t训练损失: 0.028604\n",
            "迭代次数: 5 [8960/11480 (78%)]\t训练损失: 0.026591\n",
            "迭代次数: 5 [10240/11480 (89%)]\t训练损失: 0.023977\n",
            "\n",
            "迭代次数 5\t训练损失: 0.025904\n",
            "迭代次数: 6 [0/11480 (0%)]\t训练损失: 0.022538\n",
            "迭代次数: 6 [1280/11480 (11%)]\t训练损失: 0.020811\n",
            "迭代次数: 6 [2560/11480 (22%)]\t训练损失: 0.018458\n",
            "迭代次数: 6 [3840/11480 (33%)]\t训练损失: 0.017613\n",
            "迭代次数: 6 [5120/11480 (44%)]\t训练损失: 0.016453\n",
            "迭代次数: 6 [6400/11480 (56%)]\t训练损失: 0.014776\n",
            "迭代次数: 6 [7680/11480 (67%)]\t训练损失: 0.013378\n",
            "迭代次数: 6 [8960/11480 (78%)]\t训练损失: 0.012405\n",
            "迭代次数: 6 [10240/11480 (89%)]\t训练损失: 0.012197\n",
            "\n",
            "迭代次数 6\t训练损失: 0.009521\n",
            "迭代次数: 7 [0/11480 (0%)]\t训练损失: 0.010912\n",
            "迭代次数: 7 [1280/11480 (11%)]\t训练损失: 0.010445\n",
            "迭代次数: 7 [2560/11480 (22%)]\t训练损失: 0.009193\n",
            "迭代次数: 7 [3840/11480 (33%)]\t训练损失: 0.008873\n",
            "迭代次数: 7 [5120/11480 (44%)]\t训练损失: 0.007769\n",
            "迭代次数: 7 [6400/11480 (56%)]\t训练损失: 0.007084\n",
            "迭代次数: 7 [7680/11480 (67%)]\t训练损失: 0.006555\n",
            "迭代次数: 7 [8960/11480 (78%)]\t训练损失: 0.006670\n",
            "迭代次数: 7 [10240/11480 (89%)]\t训练损失: 0.005944\n",
            "\n",
            "迭代次数 7\t训练损失: 0.005291\n",
            "迭代次数: 8 [0/11480 (0%)]\t训练损失: 0.005445\n",
            "迭代次数: 8 [1280/11480 (11%)]\t训练损失: 0.005213\n",
            "迭代次数: 8 [2560/11480 (22%)]\t训练损失: 0.005036\n",
            "迭代次数: 8 [3840/11480 (33%)]\t训练损失: 0.004430\n",
            "迭代次数: 8 [5120/11480 (44%)]\t训练损失: 0.004266\n",
            "迭代次数: 8 [6400/11480 (56%)]\t训练损失: 0.004051\n",
            "迭代次数: 8 [7680/11480 (67%)]\t训练损失: 0.003928\n",
            "迭代次数: 8 [8960/11480 (78%)]\t训练损失: 0.003424\n",
            "迭代次数: 8 [10240/11480 (89%)]\t训练损失: 0.003835\n",
            "\n",
            "迭代次数 8\t训练损失: 0.002981\n",
            "迭代次数: 9 [0/11480 (0%)]\t训练损失: 0.003696\n",
            "迭代次数: 9 [1280/11480 (11%)]\t训练损失: 0.004192\n",
            "迭代次数: 9 [2560/11480 (22%)]\t训练损失: 0.003054\n",
            "迭代次数: 9 [3840/11480 (33%)]\t训练损失: 0.003206\n",
            "迭代次数: 9 [5120/11480 (44%)]\t训练损失: 0.003181\n",
            "迭代次数: 9 [6400/11480 (56%)]\t训练损失: 0.002857\n",
            "迭代次数: 9 [7680/11480 (67%)]\t训练损失: 0.003104\n",
            "迭代次数: 9 [8960/11480 (78%)]\t训练损失: 0.002540\n",
            "迭代次数: 9 [10240/11480 (89%)]\t训练损失: 0.002906\n",
            "\n",
            "迭代次数 9\t训练损失: 0.002098\n",
            "迭代次数: 10 [0/11480 (0%)]\t训练损失: 0.002549\n",
            "迭代次数: 10 [1280/11480 (11%)]\t训练损失: 0.002829\n",
            "迭代次数: 10 [2560/11480 (22%)]\t训练损失: 0.002939\n",
            "迭代次数: 10 [3840/11480 (33%)]\t训练损失: 0.002303\n",
            "迭代次数: 10 [5120/11480 (44%)]\t训练损失: 0.002834\n",
            "迭代次数: 10 [6400/11480 (56%)]\t训练损失: 0.002356\n",
            "迭代次数: 10 [7680/11480 (67%)]\t训练损失: 0.002210\n",
            "迭代次数: 10 [8960/11480 (78%)]\t训练损失: 0.002594\n",
            "迭代次数: 10 [10240/11480 (89%)]\t训练损失: 0.002615\n",
            "\n",
            "迭代次数 10\t训练损失: 0.001806\n",
            "\n"
          ]
        },
        {
          "output_type": "stream",
          "name": "stderr",
          "text": [
            "/usr/local/lib/python3.7/dist-packages/matplotlib/backends/backend_agg.py:214: RuntimeWarning: Glyph 35757 missing from current font.\n",
            "  font.set_text(s, 0.0, flags=flags)\n",
            "/usr/local/lib/python3.7/dist-packages/matplotlib/backends/backend_agg.py:214: RuntimeWarning: Glyph 32451 missing from current font.\n",
            "  font.set_text(s, 0.0, flags=flags)\n",
            "/usr/local/lib/python3.7/dist-packages/matplotlib/backends/backend_agg.py:214: RuntimeWarning: Glyph 25439 missing from current font.\n",
            "  font.set_text(s, 0.0, flags=flags)\n",
            "/usr/local/lib/python3.7/dist-packages/matplotlib/backends/backend_agg.py:214: RuntimeWarning: Glyph 22833 missing from current font.\n",
            "  font.set_text(s, 0.0, flags=flags)\n",
            "/usr/local/lib/python3.7/dist-packages/matplotlib/backends/backend_agg.py:183: RuntimeWarning: Glyph 35757 missing from current font.\n",
            "  font.set_text(s, 0, flags=flags)\n",
            "/usr/local/lib/python3.7/dist-packages/matplotlib/backends/backend_agg.py:183: RuntimeWarning: Glyph 32451 missing from current font.\n",
            "  font.set_text(s, 0, flags=flags)\n",
            "/usr/local/lib/python3.7/dist-packages/matplotlib/backends/backend_agg.py:183: RuntimeWarning: Glyph 25439 missing from current font.\n",
            "  font.set_text(s, 0, flags=flags)\n",
            "/usr/local/lib/python3.7/dist-packages/matplotlib/backends/backend_agg.py:183: RuntimeWarning: Glyph 22833 missing from current font.\n",
            "  font.set_text(s, 0, flags=flags)\n",
            "/usr/local/lib/python3.7/dist-packages/matplotlib/backends/backend_agg.py:214: RuntimeWarning: Glyph 27979 missing from current font.\n",
            "  font.set_text(s, 0.0, flags=flags)\n",
            "/usr/local/lib/python3.7/dist-packages/matplotlib/backends/backend_agg.py:214: RuntimeWarning: Glyph 35797 missing from current font.\n",
            "  font.set_text(s, 0.0, flags=flags)\n",
            "/usr/local/lib/python3.7/dist-packages/matplotlib/backends/backend_agg.py:183: RuntimeWarning: Glyph 27979 missing from current font.\n",
            "  font.set_text(s, 0, flags=flags)\n",
            "/usr/local/lib/python3.7/dist-packages/matplotlib/backends/backend_agg.py:183: RuntimeWarning: Glyph 35797 missing from current font.\n",
            "  font.set_text(s, 0, flags=flags)\n"
          ]
        },
        {
          "output_type": "display_data",
          "data": {
            "text/plain": [
              "<Figure size 432x288 with 2 Axes>"
            ],
            "image/png": "[encoded data removed]"
          },
          "metadata": {
            "tags": [],
            "needs_background": "light"
          }
        }
      ],
      "metadata": {
        "id": "19g-nWbqUaR7",
        "colab": {
          "base_uri": "https://localhost:8080/",
          "height": 1000,
          "referenced_widgets": [
            "44def242dc794884bf85845895a140c5",
            "54c127b019984ea197438aa13c0b1460",
            "ad750470ac5f4b7b87f1f18696643467",
            "d281088f1d834853890a85d9d18824b5",
            "1a08f8aa19ae40f1bc92819020224dff",
            "0a36d8353dc946be9a16234d22ca49f6",
            "f67af11525bf4e4fa02b3b8677b5dcdc",
            "d24f01dc7a36487783ddb36270d03878"
          ]
        },
        "outputId": "545f9123-6fd2-4d51-ed48-c9398e0e0da6"
      }
    },
    {
      "cell_type": "code",
      "execution_count": 14,
      "source": [
        "torch.save(model.state_dict(), '1.pth')\r\n",
        "torch.save(model, '1.pkl') "
      ],
      "outputs": [],
      "metadata": {
        "id": "qsYGZz2QbQvf"
      }
    }
  ]
}