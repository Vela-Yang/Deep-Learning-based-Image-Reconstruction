{
  "nbformat": 4,
  "nbformat_minor": 2,
  "metadata": {
    "accelerator": "GPU",
    "colab": {
      "name": "main.ipynb",
      "provenance": [],
      "collapsed_sections": [],
      "machine_shape": "hm"
    },
    "kernelspec": {
      "display_name": "Python 3",
      "name": "python3"
    },
    "language_info": {
      "name": "python"
    },
    "widgets": {
      "application/vnd.jupyter.widget-state+json": {
        "f208e34ce2be49278aef4022e3280dcd": {
          "model_module": "@jupyter-widgets/controls",
          "model_name": "HBoxModel",
          "state": {
            "_view_name": "HBoxView",
            "_dom_classes": [],
            "_model_name": "HBoxModel",
            "_view_module": "@jupyter-widgets/controls",
            "_model_module_version": "1.5.0",
            "_view_count": null,
            "_view_module_version": "1.5.0",
            "box_style": "",
            "layout": "IPY_MODEL_7c293b3f96114c798a49060addc1a134",
            "_model_module": "@jupyter-widgets/controls",
            "children": [
              "IPY_MODEL_f73854892ab445cfb15bf99e98b8ab34",
              "IPY_MODEL_dcf94c1f15c841c1ab250d436895b632"
            ]
          }
        },
        "7c293b3f96114c798a49060addc1a134": {
          "model_module": "@jupyter-widgets/base",
          "model_name": "LayoutModel",
          "state": {
            "_view_name": "LayoutView",
            "grid_template_rows": null,
            "right": null,
            "justify_content": null,
            "_view_module": "@jupyter-widgets/base",
            "overflow": null,
            "_model_module_version": "1.2.0",
            "_view_count": null,
            "flex_flow": null,
            "width": null,
            "min_width": null,
            "border": null,
            "align_items": null,
            "bottom": null,
            "_model_module": "@jupyter-widgets/base",
            "top": null,
            "grid_column": null,
            "overflow_y": null,
            "overflow_x": null,
            "grid_auto_flow": null,
            "grid_area": null,
            "grid_template_columns": null,
            "flex": null,
            "_model_name": "LayoutModel",
            "justify_items": null,
            "grid_row": null,
            "max_height": null,
            "align_content": null,
            "visibility": null,
            "align_self": null,
            "height": null,
            "min_height": null,
            "padding": null,
            "grid_auto_rows": null,
            "grid_gap": null,
            "max_width": null,
            "order": null,
            "_view_module_version": "1.2.0",
            "grid_template_areas": null,
            "object_position": null,
            "object_fit": null,
            "grid_auto_columns": null,
            "margin": null,
            "display": null,
            "left": null
          }
        },
        "f73854892ab445cfb15bf99e98b8ab34": {
          "model_module": "@jupyter-widgets/controls",
          "model_name": "FloatProgressModel",
          "state": {
            "_view_name": "ProgressView",
            "style": "IPY_MODEL_f87f135798494874bbd6de3758e8e796",
            "_dom_classes": [],
            "description": "100%",
            "_model_name": "FloatProgressModel",
            "bar_style": "danger",
            "max": 10,
            "_view_module": "@jupyter-widgets/controls",
            "_model_module_version": "1.5.0",
            "value": 9.999999999998549,
            "_view_count": null,
            "_view_module_version": "1.5.0",
            "orientation": "horizontal",
            "min": 0,
            "description_tooltip": null,
            "_model_module": "@jupyter-widgets/controls",
            "layout": "IPY_MODEL_c5304a2c1a274295a88934d8187e9d89"
          }
        },
        "dcf94c1f15c841c1ab250d436895b632": {
          "model_module": "@jupyter-widgets/controls",
          "model_name": "HTMLModel",
          "state": {
            "_view_name": "HTMLView",
            "style": "IPY_MODEL_4fac74b9d25541e6a32778defe22bbf4",
            "_dom_classes": [],
            "description": "",
            "_model_name": "HTMLModel",
            "placeholder": "​",
            "_view_module": "@jupyter-widgets/controls",
            "_model_module_version": "1.5.0",
            "value": " 9.999999999998549/10 [1:02:34&lt;00:00, 375.43s/it]",
            "_view_count": null,
            "_view_module_version": "1.5.0",
            "description_tooltip": null,
            "_model_module": "@jupyter-widgets/controls",
            "layout": "IPY_MODEL_d68665e4101f4880a53b0a6316639f04"
          }
        },
        "f87f135798494874bbd6de3758e8e796": {
          "model_module": "@jupyter-widgets/controls",
          "model_name": "ProgressStyleModel",
          "state": {
            "_view_name": "StyleView",
            "_model_name": "ProgressStyleModel",
            "description_width": "initial",
            "_view_module": "@jupyter-widgets/base",
            "_model_module_version": "1.5.0",
            "_view_count": null,
            "_view_module_version": "1.2.0",
            "bar_color": null,
            "_model_module": "@jupyter-widgets/controls"
          }
        },
        "c5304a2c1a274295a88934d8187e9d89": {
          "model_module": "@jupyter-widgets/base",
          "model_name": "LayoutModel",
          "state": {
            "_view_name": "LayoutView",
            "grid_template_rows": null,
            "right": null,
            "justify_content": null,
            "_view_module": "@jupyter-widgets/base",
            "overflow": null,
            "_model_module_version": "1.2.0",
            "_view_count": null,
            "flex_flow": null,
            "width": null,
            "min_width": null,
            "border": null,
            "align_items": null,
            "bottom": null,
            "_model_module": "@jupyter-widgets/base",
            "top": null,
            "grid_column": null,
            "overflow_y": null,
            "overflow_x": null,
            "grid_auto_flow": null,
            "grid_area": null,
            "grid_template_columns": null,
            "flex": null,
            "_model_name": "LayoutModel",
            "justify_items": null,
            "grid_row": null,
            "max_height": null,
            "align_content": null,
            "visibility": null,
            "align_self": null,
            "height": null,
            "min_height": null,
            "padding": null,
            "grid_auto_rows": null,
            "grid_gap": null,
            "max_width": null,
            "order": null,
            "_view_module_version": "1.2.0",
            "grid_template_areas": null,
            "object_position": null,
            "object_fit": null,
            "grid_auto_columns": null,
            "margin": null,
            "display": null,
            "left": null
          }
        },
        "4fac74b9d25541e6a32778defe22bbf4": {
          "model_module": "@jupyter-widgets/controls",
          "model_name": "DescriptionStyleModel",
          "state": {
            "_view_name": "StyleView",
            "_model_name": "DescriptionStyleModel",
            "description_width": "",
            "_view_module": "@jupyter-widgets/base",
            "_model_module_version": "1.5.0",
            "_view_count": null,
            "_view_module_version": "1.2.0",
            "_model_module": "@jupyter-widgets/controls"
          }
        },
        "d68665e4101f4880a53b0a6316639f04": {
          "model_module": "@jupyter-widgets/base",
          "model_name": "LayoutModel",
          "state": {
            "_view_name": "LayoutView",
            "grid_template_rows": null,
            "right": null,
            "justify_content": null,
            "_view_module": "@jupyter-widgets/base",
            "overflow": null,
            "_model_module_version": "1.2.0",
            "_view_count": null,
            "flex_flow": null,
            "width": null,
            "min_width": null,
            "border": null,
            "align_items": null,
            "bottom": null,
            "_model_module": "@jupyter-widgets/base",
            "top": null,
            "grid_column": null,
            "overflow_y": null,
            "overflow_x": null,
            "grid_auto_flow": null,
            "grid_area": null,
            "grid_template_columns": null,
            "flex": null,
            "_model_name": "LayoutModel",
            "justify_items": null,
            "grid_row": null,
            "max_height": null,
            "align_content": null,
            "visibility": null,
            "align_self": null,
            "height": null,
            "min_height": null,
            "padding": null,
            "grid_auto_rows": null,
            "grid_gap": null,
            "max_width": null,
            "order": null,
            "_view_module_version": "1.2.0",
            "grid_template_areas": null,
            "object_position": null,
            "object_fit": null,
            "grid_auto_columns": null,
            "margin": null,
            "display": null,
            "left": null
          }
        }
      }
    }
  },
  "cells": [
    {
      "cell_type": "code",
      "execution_count": 1,
      "source": [
        "gpu_info = !nvidia-smi\r\n",
        "gpu_info = '\\n'.join(gpu_info)\r\n",
        "if gpu_info.find('failed') >= 0:\r\n",
        "  print('Select the Runtime > \"Change runtime type\" menu to enable a GPU accelerator, ')\r\n",
        "  print('and then re-execute this cell.')\r\n",
        "else:\r\n",
        "  print(gpu_info)"
      ],
      "outputs": [
        {
          "output_type": "stream",
          "name": "stdout",
          "text": [
            "Mon Aug  2 10:02:17 2021       \n",
            "+-----------------------------------------------------------------------------+\n",
            "| NVIDIA-SMI 470.42.01    Driver Version: 460.32.03    CUDA Version: 11.2     |\n",
            "|-------------------------------+----------------------+----------------------+\n",
            "| GPU  Name        Persistence-M| Bus-Id        Disp.A | Volatile Uncorr. ECC |\n",
            "| Fan  Temp  Perf  Pwr:Usage/Cap|         Memory-Usage | GPU-Util  Compute M. |\n",
            "|                               |                      |               MIG M. |\n",
            "|===============================+======================+======================|\n",
            "|   0  Tesla V100-SXM2...  Off  | 00000000:00:04.0 Off |                    0 |\n",
            "| N/A   41C    P0    47W / 300W |      0MiB / 16160MiB |      0%      Default |\n",
            "|                               |                      |                  N/A |\n",
            "+-------------------------------+----------------------+----------------------+\n",
            "                                                                               \n",
            "+-----------------------------------------------------------------------------+\n",
            "| Processes:                                                                  |\n",
            "|  GPU   GI   CI        PID   Type   Process name                  GPU Memory |\n",
            "|        ID   ID                                                   Usage      |\n",
            "|=============================================================================|\n",
            "|  No running processes found                                                 |\n",
            "+-----------------------------------------------------------------------------+\n"
          ]
        }
      ],
      "metadata": {
        "colab": {
          "base_uri": "https://localhost:8080/"
        },
        "id": "S1VJQKVHWhSs",
        "outputId": "3824eac5-df79-4bbe-d64b-96998c71e741"
      }
    },
    {
      "cell_type": "code",
      "execution_count": 2,
      "source": [
        "!git clone https://github.com/Vela-Yang/vela_SR.git SR"
      ],
      "outputs": [
        {
          "output_type": "stream",
          "name": "stdout",
          "text": [
            "fatal: destination path 'SR' already exists and is not an empty directory.\n"
          ]
        }
      ],
      "metadata": {
        "colab": {
          "base_uri": "https://localhost:8080/"
        },
        "id": "pvHO5yB-Ucn1",
        "outputId": "9de7b68d-15f0-4f58-ddd4-6cf1fb2f5e0a"
      }
    },
    {
      "cell_type": "code",
      "execution_count": 3,
      "source": [
        "!python ./SR/gdrive.py 1l3hCk-auHrckMCwMDQEMxAzuUxG4wIcR velaSR.zip\r\n",
        "!unzip velaSR.zip"
      ],
      "outputs": [],
      "metadata": {
        "id": "lEyQfv51heHX"
      }
    },
    {
      "cell_type": "code",
      "execution_count": 4,
      "source": [
        "# !pip3 install torch torchvision torchaudio\r\n",
        "\r\n",
        "import torch\r\n",
        "import torchvision\r\n",
        "from SR.models import AVS3Filter\r\n",
        "from SR.dataset import VelaDataset\r\n",
        "import matplotlib.pyplot as plt\r\n",
        "import numpy as np\r\n",
        "import IPython.display as ipd\r\n",
        "from tqdm.notebook import tqdm\r\n",
        "\r\n",
        "\r\n",
        "# 是否有GPU加速\r\n",
        "device = torch.device(\"cuda\" if torch.cuda.is_available() else \"cpu\")\r\n",
        "if device == \"cuda\":\r\n",
        "    num_workers = 4\r\n",
        "    pin_memory = True\r\n",
        "else:\r\n",
        "    num_workers = 0\r\n",
        "    pin_memory = False\r\n",
        "print(device)"
      ],
      "outputs": [
        {
          "output_type": "stream",
          "name": "stdout",
          "text": [
            "cuda\n"
          ]
        }
      ],
      "metadata": {
        "colab": {
          "base_uri": "https://localhost:8080/"
        },
        "id": "SyXDgVnZWhS0",
        "outputId": "b1b82ea5-c67f-416b-9aac-1a85a46e1f20"
      }
    },
    {
      "cell_type": "code",
      "execution_count": 5,
      "source": [
        "# 加载网络模型\r\n",
        "model = AVS3Filter().to(device)\r\n",
        "\r\n",
        "\r\n",
        "# 损失函数\r\n",
        "loss_fun = torch.nn.MSELoss().to(device)\r\n",
        "losses = []\r\n",
        "losses_test = []\r\n",
        "\r\n",
        "# 数据集加载\r\n",
        "train_set = VelaDataset(root=\"./velaSR/\", number_of_files=19140, size_of_crop= 256, subset=\"training\")\r\n",
        "test_set = VelaDataset(root=\"./velaSR/\", number_of_files=19140, size_of_crop= 256, subset=\"testing\")"
      ],
      "outputs": [],
      "metadata": {
        "id": "370KsEKeWhS1"
      }
    },
    {
      "cell_type": "code",
      "execution_count": 7,
      "source": [
        "# 优化器\r\n",
        "optimizer = torch.optim.AdamW(model.parameters())\r\n",
        "# 批大小\r\n",
        "batch_size = 16\r\n",
        "\r\n",
        "train_loader = torch.utils.data.DataLoader(\r\n",
        "    train_set,\r\n",
        "    batch_size=batch_size,\r\n",
        "    shuffle=True,\r\n",
        "    num_workers=num_workers,\r\n",
        "    pin_memory=pin_memory\r\n",
        ")\r\n",
        "test_loader = torch.utils.data.DataLoader(\r\n",
        "    train_set,\r\n",
        "    batch_size= int(batch_size),\r\n",
        "    shuffle=False,\r\n",
        "    drop_last=False,\r\n",
        "    num_workers=num_workers,\r\n",
        "    pin_memory=pin_memory\r\n",
        ")\r\n"
      ],
      "outputs": [],
      "metadata": {
        "id": "u-K6u3w7WhS1"
      }
    },
    {
      "cell_type": "code",
      "execution_count": 8,
      "source": [
        "from torch.cuda.amp import autocast\r\n",
        "scaler = torch.cuda.amp.GradScaler()\r\n",
        "\r\n",
        "# 训练函数\r\n",
        "def train(model, epoch, log_interval):\r\n",
        "    model.train()\r\n",
        "    for batch_idx, (y, y_lr) in enumerate(train_loader):\r\n",
        "        with autocast():\r\n",
        "          y, y_lr = y.to(device), y_lr.to(device)\r\n",
        "          output = model(y_lr/ 255)\r\n",
        "          loss = loss_fun(output, y/ 255)\r\n",
        "        optimizer.zero_grad()\r\n",
        "        scaler.scale(loss).backward()\r\n",
        "        scaler.step(optimizer)\r\n",
        "        scaler.update()\r\n",
        "        #loss.backward()\r\n",
        "        #optimizer.step()\r\n",
        "        # 展示训练状态\r\n",
        "        if batch_idx % log_interval == 0:\r\n",
        "            print(\r\n",
        "                f\"迭代次数: {epoch} [{batch_idx * len(y_lr)}/{len(train_loader.dataset)} ({100. * batch_idx / len(train_loader):.0f}%)]\\t训练损失: {loss.item():.6f}\")\r\n",
        "        # 更新状态栏\r\n",
        "        pbar.update(pbar_update)\r\n",
        "        # 记录训练损失\r\n",
        "        losses.append(loss.item())\r\n",
        "\r\n",
        "\r\n",
        "# 测试\r\n",
        "def test(model, epoch):\r\n",
        "    model.eval()\r\n",
        "    for y, y_lr in test_loader:\r\n",
        "        with autocast():\r\n",
        "          y, y_lr = y.to(device), y_lr.to(device)\r\n",
        "          output = model(y_lr / 255)\r\n",
        "          loss = loss_fun(output, y / 255)\r\n",
        "        losses_test.append(loss.item())\r\n",
        "        # 更新状态栏\r\n",
        "        pbar.update(pbar_update)\r\n",
        "    print(f\"\\n迭代次数 {epoch}\\t测试损失: {loss.item():.6f}\")\r\n"
      ],
      "outputs": [],
      "metadata": {
        "id": "u0EJYK80WhS2"
      }
    },
    {
      "cell_type": "code",
      "execution_count": 9,
      "source": [
        "\r\n",
        "n_epoch = 10\r\n",
        "log_interval = 70\r\n",
        "pbar_update = 1 / (len(train_loader) + len(test_loader))\r\n",
        "\r\n",
        "with tqdm(total=n_epoch) as pbar:   \r\n",
        "    for epoch in range(1, n_epoch + 1):\r\n",
        "        train(model, epoch, log_interval)\r\n",
        "        test(model, epoch)\r\n",
        "\r\n",
        "# 展示训练损失与准确率\r\n",
        "plt.subplot(2, 1, 1)\r\n",
        "plt.plot(losses);\r\n",
        "plt.title(\"Training Loss\");\r\n",
        "plt.subplot(2, 1, 2)\r\n",
        "plt.plot(losses_test);\r\n",
        "plt.title(\"Testing loss\");\r\n",
        "\r\n"
      ],
      "outputs": [
        {
          "output_type": "display_data",
          "data": {
            "text/plain": [
              "HBox(children=(FloatProgress(value=0.0, max=10.0), HTML(value='')))"
            ],
            "application/vnd.jupyter.widget-view+json": {
              "model_id": "f208e34ce2be49278aef4022e3280dcd",
              "version_minor": 0,
              "version_major": 2
            }
          },
          "metadata": {
            "tags": []
          }
        },
        {
          "output_type": "stream",
          "name": "stdout",
          "text": [
            "迭代次数: 1 [0/11480 (0%)]\t训练损失: 1.001552\n",
            "迭代次数: 1 [1120/11480 (10%)]\t训练损失: 0.833350\n",
            "迭代次数: 1 [2240/11480 (19%)]\t训练损失: 0.713006\n",
            "迭代次数: 1 [3360/11480 (29%)]\t训练损失: 0.605479\n",
            "迭代次数: 1 [4480/11480 (39%)]\t训练损失: 0.508202\n",
            "迭代次数: 1 [5600/11480 (49%)]\t训练损失: 0.429704\n",
            "迭代次数: 1 [6720/11480 (58%)]\t训练损失: 0.360006\n",
            "迭代次数: 1 [7840/11480 (68%)]\t训练损失: 0.295229\n",
            "迭代次数: 1 [8960/11480 (78%)]\t训练损失: 0.244983\n",
            "迭代次数: 1 [10080/11480 (88%)]\t训练损失: 0.196789\n",
            "迭代次数: 1 [11200/11480 (97%)]\t训练损失: 0.159663\n",
            "\n",
            "迭代次数 1\t测试损失: 0.151157\n",
            "迭代次数: 2 [0/11480 (0%)]\t训练损失: 0.153635\n",
            "迭代次数: 2 [1120/11480 (10%)]\t训练损失: 0.120322\n",
            "迭代次数: 2 [2240/11480 (19%)]\t训练损失: 0.096046\n",
            "迭代次数: 2 [3360/11480 (29%)]\t训练损失: 0.075475\n",
            "迭代次数: 2 [4480/11480 (39%)]\t训练损失: 0.059778\n",
            "迭代次数: 2 [5600/11480 (49%)]\t训练损失: 0.045231\n",
            "迭代次数: 2 [6720/11480 (58%)]\t训练损失: 0.035414\n",
            "迭代次数: 2 [7840/11480 (68%)]\t训练损失: 0.026092\n",
            "迭代次数: 2 [8960/11480 (78%)]\t训练损失: 0.019701\n",
            "迭代次数: 2 [10080/11480 (88%)]\t训练损失: 0.014633\n",
            "迭代次数: 2 [11200/11480 (97%)]\t训练损失: 0.011340\n",
            "\n",
            "迭代次数 2\t测试损失: 0.008555\n",
            "迭代次数: 3 [0/11480 (0%)]\t训练损失: 0.010077\n",
            "迭代次数: 3 [1120/11480 (10%)]\t训练损失: 0.007816\n",
            "迭代次数: 3 [2240/11480 (19%)]\t训练损失: 0.005805\n",
            "迭代次数: 3 [3360/11480 (29%)]\t训练损失: 0.004512\n",
            "迭代次数: 3 [4480/11480 (39%)]\t训练损失: 0.003529\n",
            "迭代次数: 3 [5600/11480 (49%)]\t训练损失: 0.003226\n",
            "迭代次数: 3 [6720/11480 (58%)]\t训练损失: 0.002596\n",
            "迭代次数: 3 [7840/11480 (68%)]\t训练损失: 0.002525\n",
            "迭代次数: 3 [8960/11480 (78%)]\t训练损失: 0.001707\n",
            "迭代次数: 3 [10080/11480 (88%)]\t训练损失: 0.001917\n",
            "迭代次数: 3 [11200/11480 (97%)]\t训练损失: 0.001948\n",
            "\n",
            "迭代次数 3\t测试损失: 0.001601\n",
            "迭代次数: 4 [0/11480 (0%)]\t训练损失: 0.002023\n",
            "迭代次数: 4 [1120/11480 (10%)]\t训练损失: 0.001650\n",
            "迭代次数: 4 [2240/11480 (19%)]\t训练损失: 0.001569\n",
            "迭代次数: 4 [3360/11480 (29%)]\t训练损失: 0.001655\n",
            "迭代次数: 4 [4480/11480 (39%)]\t训练损失: 0.001432\n",
            "迭代次数: 4 [5600/11480 (49%)]\t训练损失: 0.001758\n",
            "迭代次数: 4 [6720/11480 (58%)]\t训练损失: 0.002302\n",
            "迭代次数: 4 [7840/11480 (68%)]\t训练损失: 0.001999\n",
            "迭代次数: 4 [8960/11480 (78%)]\t训练损失: 0.002013\n",
            "迭代次数: 4 [10080/11480 (88%)]\t训练损失: 0.002123\n",
            "迭代次数: 4 [11200/11480 (97%)]\t训练损失: 0.002777\n",
            "\n",
            "迭代次数 4\t测试损失: 0.001506\n",
            "迭代次数: 5 [0/11480 (0%)]\t训练损失: 0.002198\n",
            "迭代次数: 5 [1120/11480 (10%)]\t训练损失: 0.003111\n",
            "迭代次数: 5 [2240/11480 (19%)]\t训练损失: 0.002212\n",
            "迭代次数: 5 [3360/11480 (29%)]\t训练损失: 0.001721\n",
            "迭代次数: 5 [4480/11480 (39%)]\t训练损失: 0.002425\n",
            "迭代次数: 5 [5600/11480 (49%)]\t训练损失: 0.002325\n",
            "迭代次数: 5 [6720/11480 (58%)]\t训练损失: 0.002418\n",
            "迭代次数: 5 [7840/11480 (68%)]\t训练损失: 0.001994\n",
            "迭代次数: 5 [8960/11480 (78%)]\t训练损失: 0.002345\n",
            "迭代次数: 5 [10080/11480 (88%)]\t训练损失: 0.002178\n",
            "迭代次数: 5 [11200/11480 (97%)]\t训练损失: 0.002651\n",
            "\n",
            "迭代次数 5\t测试损失: 0.001507\n",
            "迭代次数: 6 [0/11480 (0%)]\t训练损失: 0.002182\n",
            "迭代次数: 6 [1120/11480 (10%)]\t训练损失: 0.001945\n",
            "迭代次数: 6 [2240/11480 (19%)]\t训练损失: 0.002193\n",
            "迭代次数: 6 [3360/11480 (29%)]\t训练损失: 0.001575\n",
            "迭代次数: 6 [4480/11480 (39%)]\t训练损失: 0.001994\n",
            "迭代次数: 6 [5600/11480 (49%)]\t训练损失: 0.001781\n",
            "迭代次数: 6 [6720/11480 (58%)]\t训练损失: 0.001600\n",
            "迭代次数: 6 [7840/11480 (68%)]\t训练损失: 0.002347\n",
            "迭代次数: 6 [8960/11480 (78%)]\t训练损失: 0.002167\n",
            "迭代次数: 6 [10080/11480 (88%)]\t训练损失: 0.001952\n",
            "迭代次数: 6 [11200/11480 (97%)]\t训练损失: 0.003810\n",
            "\n",
            "迭代次数 6\t测试损失: 0.001509\n",
            "迭代次数: 7 [0/11480 (0%)]\t训练损失: 0.001515\n",
            "迭代次数: 7 [1120/11480 (10%)]\t训练损失: 0.002362\n",
            "迭代次数: 7 [2240/11480 (19%)]\t训练损失: 0.001596\n",
            "迭代次数: 7 [3360/11480 (29%)]\t训练损失: 0.002146\n",
            "迭代次数: 7 [4480/11480 (39%)]\t训练损失: 0.002079\n",
            "迭代次数: 7 [5600/11480 (49%)]\t训练损失: 0.001991\n",
            "迭代次数: 7 [6720/11480 (58%)]\t训练损失: 0.001407\n",
            "迭代次数: 7 [7840/11480 (68%)]\t训练损失: 0.002052\n",
            "迭代次数: 7 [8960/11480 (78%)]\t训练损失: 0.002223\n",
            "迭代次数: 7 [10080/11480 (88%)]\t训练损失: 0.002112\n",
            "迭代次数: 7 [11200/11480 (97%)]\t训练损失: 0.002041\n",
            "\n",
            "迭代次数 7\t测试损失: 0.001494\n",
            "迭代次数: 8 [0/11480 (0%)]\t训练损失: 0.002130\n",
            "迭代次数: 8 [1120/11480 (10%)]\t训练损失: 0.002549\n",
            "迭代次数: 8 [2240/11480 (19%)]\t训练损失: 0.002386\n",
            "迭代次数: 8 [3360/11480 (29%)]\t训练损失: 0.001878\n",
            "迭代次数: 8 [4480/11480 (39%)]\t训练损失: 0.002359\n",
            "迭代次数: 8 [5600/11480 (49%)]\t训练损失: 0.002561\n",
            "迭代次数: 8 [6720/11480 (58%)]\t训练损失: 0.001770\n",
            "迭代次数: 8 [7840/11480 (68%)]\t训练损失: 0.004267\n",
            "迭代次数: 8 [8960/11480 (78%)]\t训练损失: 0.003227\n",
            "迭代次数: 8 [10080/11480 (88%)]\t训练损失: 0.002430\n",
            "迭代次数: 8 [11200/11480 (97%)]\t训练损失: 0.001948\n",
            "\n",
            "迭代次数 8\t测试损失: 0.001530\n",
            "迭代次数: 9 [0/11480 (0%)]\t训练损失: 0.001848\n",
            "迭代次数: 9 [1120/11480 (10%)]\t训练损失: 0.002623\n",
            "迭代次数: 9 [2240/11480 (19%)]\t训练损失: 0.001965\n",
            "迭代次数: 9 [3360/11480 (29%)]\t训练损失: 0.001526\n",
            "迭代次数: 9 [4480/11480 (39%)]\t训练损失: 0.001739\n",
            "迭代次数: 9 [5600/11480 (49%)]\t训练损失: 0.002776\n",
            "迭代次数: 9 [6720/11480 (58%)]\t训练损失: 0.002255\n",
            "迭代次数: 9 [7840/11480 (68%)]\t训练损失: 0.003405\n",
            "迭代次数: 9 [8960/11480 (78%)]\t训练损失: 0.002298\n",
            "迭代次数: 9 [10080/11480 (88%)]\t训练损失: 0.002101\n",
            "迭代次数: 9 [11200/11480 (97%)]\t训练损失: 0.002585\n",
            "\n",
            "迭代次数 9\t测试损失: 0.001522\n",
            "迭代次数: 10 [0/11480 (0%)]\t训练损失: 0.001878\n",
            "迭代次数: 10 [1120/11480 (10%)]\t训练损失: 0.001583\n",
            "迭代次数: 10 [2240/11480 (19%)]\t训练损失: 0.001828\n",
            "迭代次数: 10 [3360/11480 (29%)]\t训练损失: 0.001401\n",
            "迭代次数: 10 [4480/11480 (39%)]\t训练损失: 0.002293\n",
            "迭代次数: 10 [5600/11480 (49%)]\t训练损失: 0.001175\n",
            "迭代次数: 10 [6720/11480 (58%)]\t训练损失: 0.001385\n",
            "迭代次数: 10 [7840/11480 (68%)]\t训练损失: 0.001610\n",
            "迭代次数: 10 [8960/11480 (78%)]\t训练损失: 0.001403\n",
            "迭代次数: 10 [10080/11480 (88%)]\t训练损失: 0.001693\n",
            "迭代次数: 10 [11200/11480 (97%)]\t训练损失: 0.001916\n",
            "\n",
            "迭代次数 10\t测试损失: 0.001489\n",
            "\n"
          ]
        },
        {
          "output_type": "display_data",
          "data": {
            "text/plain": [
              "<Figure size 432x288 with 2 Axes>"
            ],
            "image/png": "[encoded data removed]"
          },
          "metadata": {
            "tags": [],
            "needs_background": "light"
          }
        }
      ],
      "metadata": {
        "colab": {
          "base_uri": "https://localhost:8080/",
          "height": 1000,
          "referenced_widgets": [
            "f208e34ce2be49278aef4022e3280dcd",
            "7c293b3f96114c798a49060addc1a134",
            "f73854892ab445cfb15bf99e98b8ab34",
            "dcf94c1f15c841c1ab250d436895b632",
            "f87f135798494874bbd6de3758e8e796",
            "c5304a2c1a274295a88934d8187e9d89",
            "4fac74b9d25541e6a32778defe22bbf4",
            "d68665e4101f4880a53b0a6316639f04"
          ]
        },
        "id": "19g-nWbqUaR7",
        "outputId": "7b36316f-eec0-4d62-d4e4-548ccd9ca34b"
      }
    },
    {
      "cell_type": "code",
      "execution_count": 10,
      "source": [
        "torch.save(model.state_dict(), '1.pth')\r\n",
        "torch.save(model, '1.pkl') "
      ],
      "outputs": [],
      "metadata": {
        "id": "qsYGZz2QbQvf"
      }
    },
    {
      "cell_type": "code",
      "execution_count": 11,
      "source": [
        "def clear_overflow(tensor):\r\n",
        "  zero_value = torch.tensor([0]).to(\"cpu\", torch.float)\r\n",
        "  neg_clear = torch.heaviside(tensor, zero_value)\r\n",
        "  result_tensor = tensor * neg_clear + 0.01\r\n",
        "  overflow = result_tensor - 255\r\n",
        "  pos_clear = torch.heaviside(overflow, zero_value) * overflow\r\n",
        "  result_tensor = result_tensor - pos_clear\r\n",
        "  result_tensor = result_tensor.floor()\r\n",
        "  result_tensor = result_tensor.squeeze(0)\r\n",
        "  result_tensor = result_tensor.to(\"cpu\", torch.uint8)\r\n",
        "  return result_tensor"
      ],
      "outputs": [],
      "metadata": {
        "id": "RILFOw_ohraC"
      }
    },
    {
      "cell_type": "code",
      "execution_count": 15,
      "source": [
        "\r\n",
        "from torchvision.io import read_image, ImageReadMode, write_jpeg\r\n",
        "torch.cuda.empty_cache()\r\n",
        "model = model.to(\"cpu\")\r\n",
        "# 输入图像\r\n",
        "im = read_image('30.jpg', mode=ImageReadMode.GRAY)\r\n",
        "im = im.to(\"cpu\", torch.float) / 255\r\n",
        "# 网络输出\r\n",
        "with torch.no_grad():\r\n",
        "  out = model(im.unsqueeze(0)) * 255\r\n",
        "  out = clear_overflow(out)\r\n",
        "write_jpeg(out, '3.jpg')"
      ],
      "outputs": [],
      "metadata": {
        "id": "VVNIYC3zh-f4"
      }
    },
    {
      "cell_type": "code",
      "execution_count": 13,
      "source": [
        "from google.colab import files\r\n",
        "files.download('1.pth')\r\n",
        "files.download('1.pkl')"
      ],
      "outputs": [
        {
          "output_type": "display_data",
          "data": {
            "text/plain": [
              "<IPython.core.display.Javascript object>"
            ],
            "application/javascript": "\n    async function download(id, filename, size) {\n      if (!google.colab.kernel.accessAllowed) {\n        return;\n      }\n      const div = document.createElement('div');\n      const label = document.createElement('label');\n      label.textContent = `Downloading \"${filename}\": `;\n      div.appendChild(label);\n      const progress = document.createElement('progress');\n      progress.max = size;\n      div.appendChild(progress);\n      document.body.appendChild(div);\n\n      const buffers = [];\n      let downloaded = 0;\n\n      const channel = await google.colab.kernel.comms.open(id);\n      // Send a message to notify the kernel that we're ready.\n      channel.send({})\n\n      for await (const message of channel.messages) {\n        // Send a message to notify the kernel that we're ready.\n        channel.send({})\n        if (message.buffers) {\n          for (const buffer of message.buffers) {\n            buffers.push(buffer);\n            downloaded += buffer.byteLength;\n            progress.value = downloaded;\n          }\n        }\n      }\n      const blob = new Blob(buffers, {type: 'application/binary'});\n      const a = document.createElement('a');\n      a.href = window.URL.createObjectURL(blob);\n      a.download = filename;\n      div.appendChild(a);\n      a.click();\n      div.remove();\n    }\n  "
          },
          "metadata": {
            "tags": []
          }
        },
        {
          "output_type": "display_data",
          "data": {
            "text/plain": [
              "<IPython.core.display.Javascript object>"
            ],
            "application/javascript": "download(\"download_0350e9d8-148b-4b57-9dc9-7508e8cc8140\", \"1.pth\", 5292603)"
          },
          "metadata": {
            "tags": []
          }
        },
        {
          "output_type": "display_data",
          "data": {
            "text/plain": [
              "<IPython.core.display.Javascript object>"
            ],
            "application/javascript": "\n    async function download(id, filename, size) {\n      if (!google.colab.kernel.accessAllowed) {\n        return;\n      }\n      const div = document.createElement('div');\n      const label = document.createElement('label');\n      label.textContent = `Downloading \"${filename}\": `;\n      div.appendChild(label);\n      const progress = document.createElement('progress');\n      progress.max = size;\n      div.appendChild(progress);\n      document.body.appendChild(div);\n\n      const buffers = [];\n      let downloaded = 0;\n\n      const channel = await google.colab.kernel.comms.open(id);\n      // Send a message to notify the kernel that we're ready.\n      channel.send({})\n\n      for await (const message of channel.messages) {\n        // Send a message to notify the kernel that we're ready.\n        channel.send({})\n        if (message.buffers) {\n          for (const buffer of message.buffers) {\n            buffers.push(buffer);\n            downloaded += buffer.byteLength;\n            progress.value = downloaded;\n          }\n        }\n      }\n      const blob = new Blob(buffers, {type: 'application/binary'});\n      const a = document.createElement('a');\n      a.href = window.URL.createObjectURL(blob);\n      a.download = filename;\n      div.appendChild(a);\n      a.click();\n      div.remove();\n    }\n  "
          },
          "metadata": {
            "tags": []
          }
        },
        {
          "output_type": "display_data",
          "data": {
            "text/plain": [
              "<IPython.core.display.Javascript object>"
            ],
            "application/javascript": "download(\"download_88a1a37b-5935-4400-b0d6-40ddc2b65026\", \"1.pkl\", 5305019)"
          },
          "metadata": {
            "tags": []
          }
        }
      ],
      "metadata": {
        "id": "XBsW6UBt2cqK",
        "colab": {
          "base_uri": "https://localhost:8080/",
          "height": 17
        },
        "outputId": "7bd364ca-7552-4e78-da38-b01745017721"
      }
    }
  ]
}